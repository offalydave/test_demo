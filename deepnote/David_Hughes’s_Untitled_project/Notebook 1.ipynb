{
  "cells": [
    {
      "cell_type": "code",
      "metadata": {
        "source_hash": "d1381d28",
        "execution_start": 1745931848663,
        "execution_millis": 3812,
        "execution_context_id": "4b073ba4-cd32-401e-a08d-e2e65bace72a",
        "cell_id": "5c8836f2d5514f31a6c38f6601020482",
        "deepnote_cell_type": "code"
      },
      "source": "!apt-get update\n!apt-get install -y chromium-browser chromium-chromedriver\n!pip install selenium\n",
      "block_group": "5dd26b9b4c864abb866641f1bdd131e8",
      "execution_count": 16,
      "outputs": [],
      "outputs_reference": null,
      "content_dependencies": null
    },
    {
      "cell_type": "code",
      "metadata": {
        "source_hash": "5342fe31",
        "execution_start": 1745931897459,
        "execution_millis": 1,
        "execution_context_id": "4b073ba4-cd32-401e-a08d-e2e65bace72a",
        "cell_id": "e0b1a452e6e2428b94cb4f900e48dae1",
        "deepnote_cell_type": "code"
      },
      "source": "\n",
      "block_group": "221ddd09b92e4f6994bd1e7576e9914d",
      "execution_count": 22,
      "outputs": [],
      "outputs_reference": null,
      "content_dependencies": null
    },
    {
      "cell_type": "code",
      "metadata": {
        "source_hash": "d3866711",
        "execution_start": 1745932029333,
        "execution_millis": 2034,
        "execution_context_id": "4b073ba4-cd32-401e-a08d-e2e65bace72a",
        "cell_id": "4766e26bb65549afae4179bd7b8da360",
        "deepnote_cell_type": "code"
      },
      "source": "from selenium import webdriver\nfrom selenium.webdriver.chrome.service import Service\nfrom selenium.webdriver.common.by import By\nimport shutil\nimport os\n\n# Try installing Chromedriver via WebDriverManager if not found\nfrom webdriver_manager.chrome import ChromeDriverManager\n\n# Automatically downloads the correct chromedriver version if not found in PATH\nchromedriver_path = shutil.which(\"chromedriver\")\nif not chromedriver_path:\n    chromedriver_path = ChromeDriverManager().install()\n\n# Update the chromedriver permissions to ensure it can run\nos.chmod(chromedriver_path, 0o755)\n\n# Setting up the service and driver options\nservice = Service(chromedriver_path)\noptions = webdriver.ChromeOptions()\noptions.add_argument('--headless')\noptions.add_argument('--no-sandbox')\noptions.add_argument('--disable-dev-shm-usage')\n\n# Install Google Chrome if not found\nchrome_binary_path = shutil.which(\"google-chrome\")\nif not chrome_binary_path:\n    # Install Google Chrome using apt-get\n    os.system('apt-get update && apt-get install -y google-chrome-stable')\n    chrome_binary_path = shutil.which(\"google-chrome\")\n\nif chrome_binary_path:\n    options.binary_location = chrome_binary_path\nelse:\n    raise EnvironmentError(\"Google Chrome binary not found. Please ensure it is installed.\")\n\n# Ensure chromedriver is compatible with the chrome version\nchrome_version_output = os.popen(\"google-chrome --version\").read().strip()\nif \"Google Chrome\" in chrome_version_output:\n    chrome_major_version = chrome_version_output.split()[2].split('.')[0]\nelse:\n    raise EnvironmentError(\"Failed to fetch Google Chrome version.\")\n\nchromedriver_version_output = os.popen(f\"{chromedriver_path} --version\").read().strip()\nif \"ChromeDriver\" in chromedriver_version_output:\n    chromedriver_major_version = chromedriver_version_output.split()[1].split('.')[0]\nelse:\n    raise EnvironmentError(\"Failed to fetch chromedriver version.\")\n\nif chrome_major_version != chromedriver_major_version:\n    raise EnvironmentError(\"Chromedriver version is not compatible with Google Chrome version. Please ensure both are aligned.\")\n\n# Create driver\ndriver = webdriver.Chrome(service=service, options=options)\n\ntry:\n    # Visit website\n    driver.get('https://example.com')\n\n    # Output\n    print(\"Page Title:\", driver.title)\n\n    # Find and print h1 text\n    h1 = driver.find_element(By.TAG_NAME, \"h1\")\n    print(\"H1 Text:\", h1.text)\nfinally:\n    # Clean up\n    driver.quit()",
      "block_group": "686b2f9512fb47368028e601e46719ab",
      "execution_count": 49,
      "outputs": [],
      "outputs_reference": null,
      "content_dependencies": null
    },
    {
      "cell_type": "markdown",
      "source": "<a style='text-decoration:none;line-height:16px;display:flex;color:#5B5B62;padding:10px;justify-content:end;' href='https://deepnote.com?utm_source=created-in-deepnote-cell&projectId=e014de21-85e7-42fd-be6d-27dd2634fc11' target=\"_blank\">\n<img alt='Created in deepnote.com' style='display:inline;max-height:16px;margin:0px;margin-right:7.5px;' src='data:image/svg+xml;base64,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' > </img>\nCreated in <span style='font-weight:600;margin-left:4px;'>Deepnote</span></a>",
      "metadata": {
        "created_in_deepnote_cell": true,
        "deepnote_cell_type": "markdown"
      }
    }
  ],
  "nbformat": 4,
  "nbformat_minor": 0,
  "metadata": {
    "deepnote_persisted_session": {
      "createdAt": "2025-04-29T14:08:00.872Z"
    },
    "deepnote_notebook_id": "2d03ff1898d14919ae3432990a510b92"
  }
}